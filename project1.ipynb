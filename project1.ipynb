{
  "nbformat": 4,
  "nbformat_minor": 0,
  "metadata": {
    "colab": {
      "provenance": [],
      "authorship_tag": "ABX9TyOgP8Osgo9iE/160av+rQe4",
      "include_colab_link": true
    },
    "kernelspec": {
      "name": "python3",
      "display_name": "Python 3"
    },
    "language_info": {
      "name": "python"
    }
  },
  "cells": [
    {
      "cell_type": "markdown",
      "metadata": {
        "id": "view-in-github",
        "colab_type": "text"
      },
      "source": [
        "<a href=\"https://colab.research.google.com/github/Harshithathimmappa-07/reg-login/blob/main/project1.ipynb\" target=\"_parent\"><img src=\"https://colab.research.google.com/assets/colab-badge.svg\" alt=\"Open In Colab\"/></a>"
      ]
    },
    {
      "cell_type": "code",
      "execution_count": null,
      "metadata": {
        "colab": {
          "base_uri": "https://localhost:8080/"
        },
        "id": "M2LflOwzzlMz",
        "outputId": "0b73434c-09a5-4981-cd97-138f621eb93d"
      },
      "outputs": [
        {
          "output_type": "stream",
          "name": "stdout",
          "text": [
            "**welcome**\n",
            "\\ENTER 1 FOR  REGISTER\n",
            " ENTER 2 FOR LOGIN\n",
            " \n",
            "enter the Number:  1\n",
            "enter emailid: harshi6@gmail.com\n",
            "enter password: Harshi7*\n",
            "valid password\n",
            "all credentials entered successfully\n"
          ]
        }
      ],
      "source": [
        "import re\n",
        "def username(u):\n",
        "  spl_char='!@#$%^&*()_+{}:\"<>?-=[];\\,./'\n",
        "  flag=0\n",
        "  for i in spl_char:\n",
        "    if i==[0]:\n",
        "      flag=1\n",
        "  d=re.findall('^\\d',u)\n",
        "  if d!=[]:\n",
        "    flag=1\n",
        "  a=re.findall('.+@\\.[a-z]',u)\n",
        "  if a!=[]:\n",
        "    flag=1\n",
        "  if '@.' in u:\n",
        "    flag=1\n",
        "  if flag==0:\n",
        "    l=re.findall('.+@.+\\.[a-z]',u)\n",
        "    if l!=[]:\n",
        "      return u\n",
        "  else:\n",
        "    print('invalid')\n",
        "    print('kindly provide valid user id')\n",
        "\n",
        "import re\n",
        "def password(p):\n",
        " spl_ch='!@#$%^&*()_+{}:\"<>?-=[];\\,./'\n",
        " x=True\n",
        " while x:\n",
        "   if (len(p)<5 or len(p)>16):\n",
        "     print('your password should have minimum of 5 and maximum of 16 characters')\n",
        "     return p\n",
        "     break\n",
        "   elif not re.search(\"[a-z]\",p):\n",
        "    print(\"your password must have minimum one lowercase letter\")\n",
        "    return password(input('Re-enter password:  '))\n",
        "    break\n",
        "   elif not re.search(\"[A-Z]\",p):\n",
        "    print('your password must have minimum one uppercase letter')\n",
        "    return password(input('Re-enter password:  '))\n",
        "    break\n",
        "   elif not re.search(\"[0-9]\",p):\n",
        "    print('your password must have minimum one digit')\n",
        "    return password(input('Re-enter password:  '))\n",
        "    break\n",
        "   elif not any(char in spl_ch for char in p):\n",
        "    print('your password must have minimum one special character')\n",
        "    return password(input('Re-enter password:  '))\n",
        "    break\n",
        "   else:\n",
        "    print('valid password')\n",
        "    x=False\n",
        "    return p\n",
        "    break\n",
        " if x:\n",
        "   print(\"not valid!!!\\nkindly provide a valid password\")\n",
        "\n",
        "def mail_exist(email):\n",
        "  try:\n",
        "    with open('externalfile.json',mode='r') as file:\n",
        "      data = json.load(file)\n",
        "      if email in data:\n",
        "        print('email adress already exists please use login option')\n",
        "        return begin()\n",
        "      else:\n",
        "        pass\n",
        "  except:\n",
        "    with open('externalfile.json',mode='a') as file:\n",
        "      data1=json.load(file)\n",
        "      if email not in data1:\n",
        "        user_password=password(input('enter the password: '))\n",
        "\n",
        "import json\n",
        "def update_to_file(user_details):\n",
        "  with open(\"externalfile.json\",mode='a') as file:\n",
        "    json.dump(user_details,file)\n",
        "\n",
        "def registration():\n",
        "  email_id=username(input('enter emailid: '))\n",
        "  user_password=password(input('enter password: '))\n",
        "  user_details={email_id:user_password}\n",
        "  update_to_file(user_details)\n",
        "\n",
        "def login():\n",
        "  email_id=username(input('Enter the email id: '))\n",
        "  print(\"\\n 1--->ENTER PASSWORD\\n 2--->FORGOT PASSWORD \")\n",
        "  entry=input()\n",
        "  if entry =='1':\n",
        "    user_password=password(input(\"Enter the password  \"))\n",
        "    user_details={email_id:user_password}\n",
        "  if entry=='2':\n",
        "    pass\n",
        "\n",
        "def begin():\n",
        "  print(\"**welcome**\")\n",
        "  print(\"\\ENTER 1 FOR  REGISTER\\n ENTER 2 FOR LOGIN\\n \")\n",
        "\n",
        "  input_data=input(\"enter the Number:  \")\n",
        "  if input_data=='1':\n",
        "    return registration()\n",
        "  if input_data=='2':\n",
        "    return login()\n",
        "begin()\n",
        "print('all credentials entered successfully')"
      ]
    }
  ]
}